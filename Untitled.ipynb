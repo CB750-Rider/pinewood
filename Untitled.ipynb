{
 "cells": [
  {
   "cell_type": "code",
   "execution_count": 2,
   "metadata": {},
   "outputs": [],
   "source": [
    "from race_event import Event"
   ]
  },
  {
   "cell_type": "code",
   "execution_count": 7,
   "metadata": {},
   "outputs": [
    {
     "name": "stdout",
     "output_type": "stream",
     "text": [
      "Lions\n",
      "['Micah Newsome']\n",
      "Tigers\n",
      "['Briceton Simon', 'Kaden Burchett', 'Eli Gebhart', 'Liam McGreevy', 'Oliver Luken']\n",
      "Wolves\n",
      "['Sebastian Burchett', 'Jaiden Schaeff', 'Vikram Viadaraman', 'Mikey Bruck', 'Jacob Puckett', 'Gavin Kemper', 'Ashton Green']\n",
      "Bears\n",
      "['Jacob Hartley', 'Owen Childress']\n",
      "Tags\n",
      "['Charlotte Burchett', 'McKenna Newsome', 'Molly Luken', 'Margaret Burchett']\n",
      "Adults\n",
      "['Adult 1', 'Adult 2']\n",
      "Cub Finals\n",
      "['Lion', 'Tiger', 'Wolf', 'Bear']\n",
      "Grand Championship\n",
      "['Cub', 'Tag', 'Adult']\n",
      "Empty\n",
      "['empty 1', 'empty 2', 'empty 3', 'empty 4']\n",
      "1 Micah Newsome:Lions Briceton Simon:Tigers Kaden Burchett:Tigers Eli Gebhart:Tigers\n",
      "2 Liam McGreevy:Tigers Oliver Luken:Tigers Sebastian Burchett:Wolves Jaiden Schaeff:Wolves\n",
      "3 Vikram Viadaraman:Wolves Mikey Bruck:Wolves Jacob Puckett:Wolves Gavin Kemper:Wolves\n",
      "4 Ashton Green:Wolves Jacob Hartley:Bears Owen Childress:Bears Charlotte Burchett:Tags\n",
      "5 McKenna Newsome:Tags Molly Luken:Tags Margaret Burchett:Tags empty 4:Empty\n",
      "6 empty 1:Empty Micah Newsome:Lions Briceton Simon:Tigers Kaden Burchett:Tigers\n",
      "7 Eli Gebhart:Tigers Liam McGreevy:Tigers Oliver Luken:Tigers Sebastian Burchett:Wolves\n",
      "8 Jaiden Schaeff:Wolves Vikram Viadaraman:Wolves Mikey Bruck:Wolves Jacob Puckett:Wolves\n",
      "9 Gavin Kemper:Wolves Ashton Green:Wolves Jacob Hartley:Bears Owen Childress:Bears\n",
      "10 Charlotte Burchett:Tags McKenna Newsome:Tags Molly Luken:Tags Margaret Burchett:Tags\n",
      "11 empty 1:Empty empty 2:Empty Micah Newsome:Lions Briceton Simon:Tigers\n",
      "12 Kaden Burchett:Tigers Eli Gebhart:Tigers Liam McGreevy:Tigers Oliver Luken:Tigers\n",
      "13 Sebastian Burchett:Wolves Jaiden Schaeff:Wolves Vikram Viadaraman:Wolves Mikey Bruck:Wolves\n",
      "14 Jacob Puckett:Wolves Gavin Kemper:Wolves Ashton Green:Wolves Jacob Hartley:Bears\n",
      "15 Owen Childress:Bears Charlotte Burchett:Tags McKenna Newsome:Tags Molly Luken:Tags\n",
      "16 Margaret Burchett:Tags empty 2:Empty empty 3:Empty Micah Newsome:Lions\n",
      "17 Briceton Simon:Tigers Kaden Burchett:Tigers Eli Gebhart:Tigers Liam McGreevy:Tigers\n",
      "18 Oliver Luken:Tigers Sebastian Burchett:Wolves Jaiden Schaeff:Wolves Vikram Viadaraman:Wolves\n",
      "19 Mikey Bruck:Wolves Jacob Puckett:Wolves Gavin Kemper:Wolves Ashton Green:Wolves\n",
      "20 Jacob Hartley:Bears Owen Childress:Bears Charlotte Burchett:Tags McKenna Newsome:Tags\n",
      "21 Molly Luken:Tags Margaret Burchett:Tags empty 3:Empty empty 4:Empty\n",
      "22 Adult 1:Adults Adult 2:Adults empty 3:Empty empty 4:Empty\n",
      "23 empty 1:Empty Adult 1:Adults Adult 2:Adults empty 4:Empty\n",
      "24 empty 1:Empty empty 2:Empty Adult 1:Adults Adult 2:Adults\n",
      "25 Adult 2:Adults empty 2:Empty empty 3:Empty Adult 1:Adults\n",
      "26 Lion:Cub Finals Tiger:Cub Finals Wolf:Cub Finals Bear:Cub Finals\n",
      "27 Bear:Cub Finals Lion:Cub Finals Tiger:Cub Finals Wolf:Cub Finals\n",
      "28 Wolf:Cub Finals Bear:Cub Finals Lion:Cub Finals Tiger:Cub Finals\n",
      "29 Tiger:Cub Finals Wolf:Cub Finals Bear:Cub Finals Lion:Cub Finals\n",
      "30 Cub:Grand Championship Tag:Grand Championship Adult:Grand Championship empty 4:Empty\n",
      "31 empty 1:Empty Cub:Grand Championship Tag:Grand Championship Adult:Grand Championship\n",
      "32 Adult:Grand Championship empty 2:Empty Cub:Grand Championship Tag:Grand Championship\n",
      "33 Tag:Grand Championship Adult:Grand Championship empty 3:Empty Cub:Grand Championship\n",
      "Inputing previous results from race_log.csv:\n",
      "No previous results were found.\n"
     ]
    }
   ],
   "source": [
    "plan_file = 'RacePlan.csv'\n",
    "log_file = 'race_log.csv'\n",
    "\n",
    "event = Event(plan_file, log_file)"
   ]
  },
  {
   "cell_type": "code",
   "execution_count": 8,
   "metadata": {},
   "outputs": [
    {
     "ename": "AttributeError",
     "evalue": "'Event' object has no attribute 'generate_race_plan'",
     "output_type": "error",
     "traceback": [
      "\u001b[0;31m---------------------------------------------------------------------------\u001b[0m",
      "\u001b[0;31mAttributeError\u001b[0m                            Traceback (most recent call last)",
      "\u001b[0;32m<ipython-input-8-1f0090908c4c>\u001b[0m in \u001b[0;36m<module>\u001b[0;34m\u001b[0m\n\u001b[0;32m----> 1\u001b[0;31m \u001b[0mevent\u001b[0m\u001b[0;34m.\u001b[0m\u001b[0mprint_plan_yaml\u001b[0m\u001b[0;34m(\u001b[0m\u001b[0;34m)\u001b[0m\u001b[0;34m\u001b[0m\u001b[0;34m\u001b[0m\u001b[0m\n\u001b[0m",
      "\u001b[0;32m/mnt/lee/DemeterMain/Documents/Projects/DerbyTimer/pinewood/race_event.py\u001b[0m in \u001b[0;36mprint_plan_yaml\u001b[0;34m(self, file_name)\u001b[0m\n\u001b[1;32m    390\u001b[0m     def print_plan_yaml(self,\n\u001b[1;32m    391\u001b[0m                         file_name='race_plan.yaml'):\n\u001b[0;32m--> 392\u001b[0;31m         \u001b[0mself\u001b[0m\u001b[0;34m.\u001b[0m\u001b[0mgenerate_race_plan\u001b[0m\u001b[0;34m(\u001b[0m\u001b[0;34m)\u001b[0m\u001b[0;34m\u001b[0m\u001b[0;34m\u001b[0m\u001b[0m\n\u001b[0m\u001b[1;32m    393\u001b[0m \u001b[0;34m\u001b[0m\u001b[0m\n\u001b[1;32m    394\u001b[0m         plan_dict = {\n",
      "\u001b[0;31mAttributeError\u001b[0m: 'Event' object has no attribute 'generate_race_plan'"
     ]
    }
   ],
   "source": [
    "event.print_plan_yaml()\n"
   ]
  },
  {
   "cell_type": "code",
   "execution_count": 6,
   "metadata": {},
   "outputs": [],
   "source": [
    "del event"
   ]
  },
  {
   "cell_type": "code",
   "execution_count": 9,
   "metadata": {},
   "outputs": [
    {
     "data": {
      "text/plain": [
       "3"
      ]
     },
     "execution_count": 9,
     "metadata": {},
     "output_type": "execute_result"
    }
   ],
   "source": [
    "x = [1,2 ,3,4,5,6]\n",
    "x.pop(2)"
   ]
  },
  {
   "cell_type": "code",
   "execution_count": 10,
   "metadata": {},
   "outputs": [
    {
     "data": {
      "text/plain": [
       "[1, 2, 4, 5, 6]"
      ]
     },
     "execution_count": 10,
     "metadata": {},
     "output_type": "execute_result"
    }
   ],
   "source": [
    "x\n"
   ]
  },
  {
   "cell_type": "code",
   "execution_count": 11,
   "metadata": {},
   "outputs": [
    {
     "data": {
      "text/plain": [
       "True"
      ]
     },
     "execution_count": 11,
     "metadata": {},
     "output_type": "execute_result"
    }
   ],
   "source": [
    "(0,0)==(0,0)"
   ]
  },
  {
   "cell_type": "code",
   "execution_count": 12,
   "metadata": {},
   "outputs": [
    {
     "data": {
      "text/plain": [
       "False"
      ]
     },
     "execution_count": 12,
     "metadata": {},
     "output_type": "execute_result"
    }
   ],
   "source": [
    "(0,0)==(1,0)"
   ]
  },
  {
   "cell_type": "code",
   "execution_count": 13,
   "metadata": {},
   "outputs": [
    {
     "data": {
      "text/plain": [
       "1"
      ]
     },
     "execution_count": 13,
     "metadata": {},
     "output_type": "execute_result"
    }
   ],
   "source": [
    "5%2\n"
   ]
  },
  {
   "cell_type": "code",
   "execution_count": 15,
   "metadata": {},
   "outputs": [
    {
     "data": {
      "text/plain": [
       "[(), (), (), (), ()]"
      ]
     },
     "execution_count": 15,
     "metadata": {},
     "output_type": "execute_result"
    }
   ],
   "source": [
    "[(),(),()] + [(),()] + []"
   ]
  },
  {
   "cell_type": "code",
   "execution_count": null,
   "metadata": {},
   "outputs": [],
   "source": []
  }
 ],
 "metadata": {
  "kernelspec": {
   "display_name": "Python 3",
   "language": "python",
   "name": "python3"
  },
  "language_info": {
   "codemirror_mode": {
    "name": "ipython",
    "version": 3
   },
   "file_extension": ".py",
   "mimetype": "text/x-python",
   "name": "python",
   "nbconvert_exporter": "python",
   "pygments_lexer": "ipython3",
   "version": "3.7.6"
  }
 },
 "nbformat": 4,
 "nbformat_minor": 4
}
